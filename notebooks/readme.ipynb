{
 "cells": [
  {
   "cell_type": "markdown",
   "metadata": {},
   "source": [
    "## Readme\n",
    "\n",
    "1. **Y2018M08D08_RH_S3_EC2_V01**  \n",
    "    Download S3 files to EC2 instance.\n",
    "1. **Y2018M08D16_RH_Convertt_Geotiff_V01**  \n",
    "    Convert netCDF files to geotiff.\n",
    "1. **Y2018M08D16_RH_Floods_Inundation_EE_V01**  \n",
    "    Ingest the inundation maps to earthegine.\n"
   ]
  },
  {
   "cell_type": "code",
   "execution_count": null,
   "metadata": {
    "collapsed": true
   },
   "outputs": [],
   "source": []
  }
 ],
 "metadata": {
  "kernelspec": {
   "display_name": "Python 35",
   "language": "python",
   "name": "python35"
  },
  "language_info": {
   "codemirror_mode": {
    "name": "ipython",
    "version": 3
   },
   "file_extension": ".py",
   "mimetype": "text/x-python",
   "name": "python",
   "nbconvert_exporter": "python",
   "pygments_lexer": "ipython3",
   "version": "3.5.4"
  }
 },
 "nbformat": 4,
 "nbformat_minor": 2
}
