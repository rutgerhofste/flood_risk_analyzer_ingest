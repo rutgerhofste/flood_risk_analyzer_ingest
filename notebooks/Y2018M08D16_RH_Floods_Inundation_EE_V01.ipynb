{
 "cells": [
  {
   "cell_type": "code",
   "execution_count": 1,
   "metadata": {},
   "outputs": [
    {
     "name": "stdout",
     "output_type": "stream",
     "text": [
      "GCS_INPUT_PATH:gs://aqueduct30_v01/Y2018M08D16_RH_Convertt_Geotiff_V01/output_V02/output_V02\n",
      "EC2_INPUT_PATH:/volumes/data/Y2018M08D16_RH_Convertt_Geotiff_V01/output_V02\n",
      "EE_OUTPUT_PATH:projects/WRI-Aquaduct/floods/Y2018M08D16_RH_Floods_Inundation_EE_V01/output_V01\n"
     ]
    }
   ],
   "source": [
    "\"\"\" Ingest the inundation maps to earthegine\n",
    "-------------------------------------------------------------------------------\n",
    "\n",
    "\n",
    "Author: Rutger Hofste\n",
    "Date: 20180808\n",
    "Kernel: python35\n",
    "Docker: rutgerhofste/gisdocker:ubuntu16.04\n",
    "\n",
    "Args:\n",
    "\n",
    "    SCRIPT_NAME (string) : Script name\n",
    "    OUTPUT_VERSION (integer) : output version for ec2 and s3.\n",
    "    GCS_INPUT_PATH (string) : input string for GCS\n",
    "    EE_OUTPUT_PATH (string) : output path for Earthengine\n",
    "    \n",
    "Returns:\n",
    "\n",
    "Result:\n",
    "    Images in one imageCollection on earthengine\n",
    "\n",
    "\"\"\"\n",
    "SCRIPT_NAME = \"Y2018M08D16_RH_Floods_Inundation_EE_V01\"\n",
    "OUTPUT_VERSION = 1\n",
    "\n",
    "GCS_INPUT_PATH = \"gs://aqueduct30_v01/Y2018M08D16_RH_Convertt_Geotiff_V01/output_V02/output_V02\" #typo in pathname\n",
    "EE_BASE_PATH = \"projects/WRI-Aquaduct/floods/{}\".format(SCRIPT_NAME)\n",
    "EE_OUTPUT_PATH = EE_BASE_PATH+\"/output_V{:02.0f}\".format(OUTPUT_VERSION)\n",
    "EC2_INPUT_PATH = \"/volumes/data/Y2018M08D16_RH_Convertt_Geotiff_V01/output_V02\" #for metadata \n",
    "\n",
    "EE_IMAGECOLLECTION_NAME = \"inundation\"\n",
    "\n",
    "print(\"GCS_INPUT_PATH:\" + GCS_INPUT_PATH +\n",
    "      \"\\nEC2_INPUT_PATH:\" + EC2_INPUT_PATH +\n",
    "      \"\\nEE_OUTPUT_PATH:\" + EE_OUTPUT_PATH)\n",
    "\n"
   ]
  },
  {
   "cell_type": "code",
   "execution_count": 2,
   "metadata": {},
   "outputs": [
    {
     "name": "stdout",
     "output_type": "stream",
     "text": [
      "Y2018M08D16 UTC 16:28\n"
     ]
    },
    {
     "data": {
      "text/plain": [
       "'3.5.4 |Anaconda, Inc.| (default, Nov 20 2017, 18:44:38) \\n[GCC 7.2.0]'"
      ]
     },
     "execution_count": 2,
     "metadata": {},
     "output_type": "execute_result"
    }
   ],
   "source": [
    "import time, datetime, sys\n",
    "dateString = time.strftime(\"Y%YM%mD%d\")\n",
    "timeString = time.strftime(\"UTC %H:%M\")\n",
    "start = datetime.datetime.now()\n",
    "print(dateString,timeString)\n",
    "sys.version"
   ]
  },
  {
   "cell_type": "code",
   "execution_count": 3,
   "metadata": {},
   "outputs": [],
   "source": [
    "import os\n",
    "import pickle\n",
    "import subprocess\n",
    "import ast"
   ]
  },
  {
   "cell_type": "code",
   "execution_count": 4,
   "metadata": {},
   "outputs": [
    {
     "name": "stdout",
     "output_type": "stream",
     "text": [
      "b'Asset projects/WRI-Aquaduct/floods/Y2018M08D16_RH_Floods_Inundation_EE_V01 already exists\\n'\n"
     ]
    }
   ],
   "source": [
    "command = \"earthengine create folder {}\".format(EE_BASE_PATH)\n",
    "response = subprocess.check_output(command,shell=True)\n",
    "print(response)"
   ]
  },
  {
   "cell_type": "code",
   "execution_count": 5,
   "metadata": {},
   "outputs": [
    {
     "name": "stdout",
     "output_type": "stream",
     "text": [
      "b'Asset projects/WRI-Aquaduct/floods/Y2018M08D16_RH_Floods_Inundation_EE_V01/output_V01 already exists\\n'\n"
     ]
    }
   ],
   "source": [
    "command = \"earthengine create folder {}\".format(EE_OUTPUT_PATH)\n",
    "response = subprocess.check_output(command,shell=True)\n",
    "print(response)"
   ]
  },
  {
   "cell_type": "code",
   "execution_count": 6,
   "metadata": {},
   "outputs": [
    {
     "name": "stdout",
     "output_type": "stream",
     "text": [
      "b'Asset projects/WRI-Aquaduct/floods/Y2018M08D16_RH_Floods_Inundation_EE_V01/output_V01/inundation already exists\\n'\n"
     ]
    }
   ],
   "source": [
    "EE_IC_PATH = \"{}/{}\".format(EE_OUTPUT_PATH,EE_IMAGECOLLECTION_NAME)\n",
    "\n",
    "command = \"earthengine create collection {}\".format(EE_IC_PATH)\n",
    "response = subprocess.check_output(command,shell=True)\n",
    "print(response)"
   ]
  },
  {
   "cell_type": "code",
   "execution_count": 7,
   "metadata": {},
   "outputs": [],
   "source": [
    "def dict_to_command(d):\n",
    "    # nodata value is specified separately since special tag required\n",
    "    try:\n",
    "        d.pop(\"inun__FillValue\")\n",
    "    except:\n",
    "        pass    \n",
    "    \n",
    "    property_string = \"\"\n",
    "    for key, value in d.items():\n",
    "        \n",
    "        \n",
    "        if type(value) == int or type(value) == float:\n",
    "            # value is number\n",
    "            property_string = property_string + \" -p '(number){}={}' \".format(key,value)\n",
    "        else:\n",
    "            # value is string or value is number in string format.        \n",
    "            try:\n",
    "                # Check if number in string format\n",
    "                value = ast.literal_eval(value)\n",
    "                property_string = property_string + \" -p '(number){}={}' \".format(key,value)\n",
    "            except:\n",
    "                # if checknumber fails, is string. Clipping at 75 (max byte is 1024 in ee)\n",
    "                value = value[:75] + (value[75:] and '..')\n",
    "                property_string = property_string + \" -p '(string){}={}' \".format(key,value) \n",
    "    return property_string"
   ]
  },
  {
   "cell_type": "code",
   "execution_count": 8,
   "metadata": {
    "collapsed": true
   },
   "outputs": [],
   "source": [
    "def create_ingest_command(input_path):\n",
    "    with open(input_path, 'rb') as handle:\n",
    "        dictje = pickle.load(handle)\n",
    "        \n",
    "    command = \"earthengine upload image \"    \n",
    "    \n",
    "    filename = dictje[\"filename\"]\n",
    "    filename_no_ext, ext = filename.split(\".\")\n",
    "        \n",
    "    asset_id = \"{}/{}\".format(EE_IC_PATH,filename_no_ext)\n",
    "    command += \"--asset_id={}\".format(asset_id)    \n",
    "    source_path = \"{}/{}.tif\".format(GCS_INPUT_PATH,filename_no_ext)    \n",
    "    command += \" {}\".format(source_path)\n",
    "    \n",
    "    command += \" --nodata_value=-9999 -p '(string)ingested_by=rutgerhofste' -p 'date\"\n",
    "    \n",
    "    # properties_from_filename    \n",
    "    command +=  dict_to_command(dictje[\"properties_from_filename\"])\n",
    "\n",
    "    # global attributes\n",
    "    command +=  dict_to_command(dictje[\"global_attributes\"])\n",
    "    \n",
    "    #variable attributes\n",
    "    command +=  dict_to_command(dictje[\"variable_attributes\"])\n",
    "    \n",
    "    return command"
   ]
  },
  {
   "cell_type": "code",
   "execution_count": 9,
   "metadata": {},
   "outputs": [],
   "source": [
    "for root, dirs, files in os.walk(EC2_INPUT_PATH):\n",
    "    for one_file in files:\n",
    "        if one_file.endswith(\"pickle\"):\n",
    "            input_path = os.path.join(root,one_file)\n",
    "            command = create_ingest_command(input_path)\n",
    "            \n",
    "            \n"
   ]
  },
  {
   "cell_type": "code",
   "execution_count": 10,
   "metadata": {},
   "outputs": [
    {
     "name": "stdout",
     "output_type": "stream",
     "text": [
      "earthengine upload image --asset_id=projects/WRI-Aquaduct/floods/Y2018M08D16_RH_Floods_Inundation_EE_V01/output_V01/inundation/inuncoast_rcp4p5_wtsub_2030_rp1000_0_perc_50 gs://aqueduct30_v01/Y2018M08D16_RH_Convertt_Geotiff_V01/output_V02/output_V02/inuncoast_rcp4p5_wtsub_2030_rp1000_0_perc_50.tif --nodata_value=-9999 -p '(string)floodtype=inuncoast'  -p '(string)model=perc'  -p '(number)sea_level_rise_scenario=50'  -p '(number)returnperiod_decimal=0'  -p '(string)subsidence=wtsub'  -p '(string)climate=rcp4p5'  -p '(string)returnperiod=rp1000'  -p '(number)year=2030'  -p '(string)Conventions=CF-1.6'  -p '(string)history=Created by: $Id: coastal_inun.py 219 2017-11-13 11:12:22Z eilan_dk $,\n",
      "     ..'  -p '(string)config_file=/p/1209884-aqueduct/Coastal_inun/settings_h6/coastal_inun.ini'  -p '(string)title=Aqueduct Coastal hazard layer'  -p '(string)references=http://floods.wri.org/'  -p '(string)institution=Deltares'  -p '(string)source=Global Tide and Surge Model'  -p '(string)project=Aqueduct Global Flood Analyzer'  -p '(string)inun_coordinates=lat lon'  -p '(string)inun_long_name=Coastal flooding'  -p '(string)inun_comment=water_surface_reference_datum_altitude is given in file /p/1209884-aqueduct..'  -p '(string)inun_units=m'  -p '(string)inun_standard_name=water_surface_height_above_reference_datum' \n"
     ]
    }
   ],
   "source": [
    "print(command)"
   ]
  },
  {
   "cell_type": "code",
   "execution_count": null,
   "metadata": {
    "collapsed": true
   },
   "outputs": [],
   "source": []
  }
 ],
 "metadata": {
  "kernelspec": {
   "display_name": "Python 35",
   "language": "python",
   "name": "python35"
  },
  "language_info": {
   "codemirror_mode": {
    "name": "ipython",
    "version": 3
   },
   "file_extension": ".py",
   "mimetype": "text/x-python",
   "name": "python",
   "nbconvert_exporter": "python",
   "pygments_lexer": "ipython3",
   "version": "3.5.4"
  }
 },
 "nbformat": 4,
 "nbformat_minor": 2
}
